{
  "nbformat": 4,
  "nbformat_minor": 0,
  "metadata": {
    "colab": {
      "name": "EXTRA1_2019253025_윤광현.ipynb",
      "provenance": [],
      "collapsed_sections": []
    },
    "kernelspec": {
      "name": "python3",
      "display_name": "Python 3"
    }
  },
  "cells": [
    {
      "cell_type": "code",
      "metadata": {
        "id": "2WssIVClfGto"
      },
      "source": [
        "# 2019253025 윤광현\n",
        "import pandas as pd\n",
        "import numpy as np\n",
        "\n",
        "%precision 5\n",
        "pd.set_option('precision', 5)"
      ],
      "execution_count": 105,
      "outputs": []
    },
    {
      "cell_type": "markdown",
      "metadata": {
        "id": "LGYOCjcogD7h"
      },
      "source": [
        ""
      ]
    },
    {
      "cell_type": "code",
      "metadata": {
        "id": "XqEpq7dxgETO",
        "outputId": "f4e2c06a-53eb-4efe-a123-00c5f8d5bf0f",
        "colab": {
          "base_uri": "https://localhost:8080/",
          "height": 799
        }
      },
      "source": [
        "# 아래와 같이 파일 내용을 수정함(이름도 Rate2임을 주의할 것)\n",
        "df = pd.read_csv('/content/drive/My Drive/data/Wonju_Populatoin_Rate2.csv', index_col='term of investigation')\n",
        "df"
      ],
      "execution_count": 106,
      "outputs": [
        {
          "output_type": "execute_result",
          "data": {
            "text/html": [
              "<div>\n",
              "<style scoped>\n",
              "    .dataframe tbody tr th:only-of-type {\n",
              "        vertical-align: middle;\n",
              "    }\n",
              "\n",
              "    .dataframe tbody tr th {\n",
              "        vertical-align: top;\n",
              "    }\n",
              "\n",
              "    .dataframe thead th {\n",
              "        text-align: right;\n",
              "    }\n",
              "</style>\n",
              "<table border=\"1\" class=\"dataframe\">\n",
              "  <thead>\n",
              "    <tr style=\"text-align: right;\">\n",
              "      <th></th>\n",
              "      <th>age</th>\n",
              "      <th>Gwirae-myeon total population</th>\n",
              "      <th>Gwirae-myeon male population</th>\n",
              "      <th>Gwirae-myeon female population</th>\n",
              "      <th>Bangokgwanseol-dong total population</th>\n",
              "      <th>Bangokgwanseol-dong male population</th>\n",
              "      <th>Bangokgwanseol-dong female population</th>\n",
              "    </tr>\n",
              "    <tr>\n",
              "      <th>term of investigation</th>\n",
              "      <th></th>\n",
              "      <th></th>\n",
              "      <th></th>\n",
              "      <th></th>\n",
              "      <th></th>\n",
              "      <th></th>\n",
              "      <th></th>\n",
              "    </tr>\n",
              "  </thead>\n",
              "  <tbody>\n",
              "    <tr>\n",
              "      <th>2020. 08</th>\n",
              "      <td>0</td>\n",
              "      <td>17</td>\n",
              "      <td>10</td>\n",
              "      <td>7</td>\n",
              "      <td>2236</td>\n",
              "      <td>1160</td>\n",
              "      <td>1076</td>\n",
              "    </tr>\n",
              "    <tr>\n",
              "      <th>2020. 08</th>\n",
              "      <td>5</td>\n",
              "      <td>31</td>\n",
              "      <td>16</td>\n",
              "      <td>15</td>\n",
              "      <td>3091</td>\n",
              "      <td>1524</td>\n",
              "      <td>1567</td>\n",
              "    </tr>\n",
              "    <tr>\n",
              "      <th>2020. 08</th>\n",
              "      <td>10</td>\n",
              "      <td>26</td>\n",
              "      <td>12</td>\n",
              "      <td>14</td>\n",
              "      <td>2993</td>\n",
              "      <td>1498</td>\n",
              "      <td>1495</td>\n",
              "    </tr>\n",
              "    <tr>\n",
              "      <th>2020. 08</th>\n",
              "      <td>15</td>\n",
              "      <td>51</td>\n",
              "      <td>23</td>\n",
              "      <td>28</td>\n",
              "      <td>2812</td>\n",
              "      <td>1368</td>\n",
              "      <td>1444</td>\n",
              "    </tr>\n",
              "    <tr>\n",
              "      <th>2020. 08</th>\n",
              "      <td>20</td>\n",
              "      <td>72</td>\n",
              "      <td>34</td>\n",
              "      <td>38</td>\n",
              "      <td>2528</td>\n",
              "      <td>1331</td>\n",
              "      <td>1197</td>\n",
              "    </tr>\n",
              "    <tr>\n",
              "      <th>2020. 08</th>\n",
              "      <td>25</td>\n",
              "      <td>66</td>\n",
              "      <td>38</td>\n",
              "      <td>28</td>\n",
              "      <td>2572</td>\n",
              "      <td>1193</td>\n",
              "      <td>1379</td>\n",
              "    </tr>\n",
              "    <tr>\n",
              "      <th>2020. 08</th>\n",
              "      <td>30</td>\n",
              "      <td>50</td>\n",
              "      <td>36</td>\n",
              "      <td>14</td>\n",
              "      <td>3197</td>\n",
              "      <td>1437</td>\n",
              "      <td>1760</td>\n",
              "    </tr>\n",
              "    <tr>\n",
              "      <th>2020. 08</th>\n",
              "      <td>35</td>\n",
              "      <td>77</td>\n",
              "      <td>55</td>\n",
              "      <td>22</td>\n",
              "      <td>4207</td>\n",
              "      <td>2017</td>\n",
              "      <td>2190</td>\n",
              "    </tr>\n",
              "    <tr>\n",
              "      <th>2020. 08</th>\n",
              "      <td>40</td>\n",
              "      <td>59</td>\n",
              "      <td>25</td>\n",
              "      <td>34</td>\n",
              "      <td>4262</td>\n",
              "      <td>1986</td>\n",
              "      <td>2276</td>\n",
              "    </tr>\n",
              "    <tr>\n",
              "      <th>2020. 08</th>\n",
              "      <td>45</td>\n",
              "      <td>110</td>\n",
              "      <td>65</td>\n",
              "      <td>45</td>\n",
              "      <td>4511</td>\n",
              "      <td>2210</td>\n",
              "      <td>2301</td>\n",
              "    </tr>\n",
              "    <tr>\n",
              "      <th>2020. 08</th>\n",
              "      <td>50</td>\n",
              "      <td>174</td>\n",
              "      <td>87</td>\n",
              "      <td>87</td>\n",
              "      <td>3623</td>\n",
              "      <td>1929</td>\n",
              "      <td>1694</td>\n",
              "    </tr>\n",
              "    <tr>\n",
              "      <th>2020. 08</th>\n",
              "      <td>55</td>\n",
              "      <td>294</td>\n",
              "      <td>166</td>\n",
              "      <td>128</td>\n",
              "      <td>2521</td>\n",
              "      <td>1273</td>\n",
              "      <td>1248</td>\n",
              "    </tr>\n",
              "    <tr>\n",
              "      <th>2020. 08</th>\n",
              "      <td>60</td>\n",
              "      <td>324</td>\n",
              "      <td>171</td>\n",
              "      <td>153</td>\n",
              "      <td>1959</td>\n",
              "      <td>924</td>\n",
              "      <td>1035</td>\n",
              "    </tr>\n",
              "    <tr>\n",
              "      <th>2020. 08</th>\n",
              "      <td>65</td>\n",
              "      <td>248</td>\n",
              "      <td>132</td>\n",
              "      <td>116</td>\n",
              "      <td>1134</td>\n",
              "      <td>588</td>\n",
              "      <td>546</td>\n",
              "    </tr>\n",
              "    <tr>\n",
              "      <th>2020. 08</th>\n",
              "      <td>70</td>\n",
              "      <td>162</td>\n",
              "      <td>78</td>\n",
              "      <td>84</td>\n",
              "      <td>657</td>\n",
              "      <td>293</td>\n",
              "      <td>364</td>\n",
              "    </tr>\n",
              "    <tr>\n",
              "      <th>2020. 08</th>\n",
              "      <td>75</td>\n",
              "      <td>179</td>\n",
              "      <td>72</td>\n",
              "      <td>107</td>\n",
              "      <td>622</td>\n",
              "      <td>276</td>\n",
              "      <td>346</td>\n",
              "    </tr>\n",
              "    <tr>\n",
              "      <th>2020. 08</th>\n",
              "      <td>80</td>\n",
              "      <td>143</td>\n",
              "      <td>68</td>\n",
              "      <td>75</td>\n",
              "      <td>398</td>\n",
              "      <td>150</td>\n",
              "      <td>248</td>\n",
              "    </tr>\n",
              "    <tr>\n",
              "      <th>2020. 08</th>\n",
              "      <td>85</td>\n",
              "      <td>65</td>\n",
              "      <td>16</td>\n",
              "      <td>49</td>\n",
              "      <td>204</td>\n",
              "      <td>51</td>\n",
              "      <td>153</td>\n",
              "    </tr>\n",
              "    <tr>\n",
              "      <th>2020. 08</th>\n",
              "      <td>90</td>\n",
              "      <td>27</td>\n",
              "      <td>3</td>\n",
              "      <td>24</td>\n",
              "      <td>79</td>\n",
              "      <td>14</td>\n",
              "      <td>65</td>\n",
              "    </tr>\n",
              "    <tr>\n",
              "      <th>2020. 08</th>\n",
              "      <td>95</td>\n",
              "      <td>11</td>\n",
              "      <td>3</td>\n",
              "      <td>8</td>\n",
              "      <td>17</td>\n",
              "      <td>7</td>\n",
              "      <td>10</td>\n",
              "    </tr>\n",
              "    <tr>\n",
              "      <th>2020. 08</th>\n",
              "      <td>100</td>\n",
              "      <td>3</td>\n",
              "      <td>1</td>\n",
              "      <td>2</td>\n",
              "      <td>6</td>\n",
              "      <td>1</td>\n",
              "      <td>5</td>\n",
              "    </tr>\n",
              "  </tbody>\n",
              "</table>\n",
              "</div>"
            ],
            "text/plain": [
              "                       age  ...  Bangokgwanseol-dong female population\n",
              "term of investigation       ...                                       \n",
              "2020. 08                 0  ...                                   1076\n",
              "2020. 08                 5  ...                                   1567\n",
              "2020. 08                10  ...                                   1495\n",
              "2020. 08                15  ...                                   1444\n",
              "2020. 08                20  ...                                   1197\n",
              "2020. 08                25  ...                                   1379\n",
              "2020. 08                30  ...                                   1760\n",
              "2020. 08                35  ...                                   2190\n",
              "2020. 08                40  ...                                   2276\n",
              "2020. 08                45  ...                                   2301\n",
              "2020. 08                50  ...                                   1694\n",
              "2020. 08                55  ...                                   1248\n",
              "2020. 08                60  ...                                   1035\n",
              "2020. 08                65  ...                                    546\n",
              "2020. 08                70  ...                                    364\n",
              "2020. 08                75  ...                                    346\n",
              "2020. 08                80  ...                                    248\n",
              "2020. 08                85  ...                                    153\n",
              "2020. 08                90  ...                                     65\n",
              "2020. 08                95  ...                                     10\n",
              "2020. 08               100  ...                                      5\n",
              "\n",
              "[21 rows x 7 columns]"
            ]
          },
          "metadata": {
            "tags": []
          },
          "execution_count": 106
        }
      ]
    },
    {
      "cell_type": "markdown",
      "metadata": {
        "id": "UbOoq7KcqGfV"
      },
      "source": [
        "# 귀래면 조사"
      ]
    },
    {
      "cell_type": "code",
      "metadata": {
        "id": "ur_o0p90rf9S",
        "outputId": "1fe3bc61-14d9-4f97-c05b-cb5a418e7542",
        "colab": {
          "base_uri": "https://localhost:8080/",
          "height": 53
        }
      },
      "source": [
        "#원주시 귀래면 전체 인구수 배열 만들기\n",
        "population = np.array(df['Gwirae-myeon total population'])[:21] \n",
        "population"
      ],
      "execution_count": 107,
      "outputs": [
        {
          "output_type": "execute_result",
          "data": {
            "text/plain": [
              "array([ 17,  31,  26,  51,  72,  66,  50,  77,  59, 110, 174, 294, 324,\n",
              "       248, 162, 179, 143,  65,  27,  11,   3])"
            ]
          },
          "metadata": {
            "tags": []
          },
          "execution_count": 107
        }
      ]
    },
    {
      "cell_type": "code",
      "metadata": {
        "id": "tNYsasuRsl2y",
        "outputId": "86c88c06-30a0-41b0-bb20-14eda4a582b5",
        "colab": {
          "base_uri": "https://localhost:8080/",
          "height": 53
        }
      },
      "source": [
        "#원주시 귀래면 전체 인구의 나이 배열 만들기\n",
        "age = np.array(df['age'])[:21] \n",
        "age"
      ],
      "execution_count": 108,
      "outputs": [
        {
          "output_type": "execute_result",
          "data": {
            "text/plain": [
              "array([  0,   5,  10,  15,  20,  25,  30,  35,  40,  45,  50,  55,  60,\n",
              "        65,  70,  75,  80,  85,  90,  95, 100])"
            ]
          },
          "metadata": {
            "tags": []
          },
          "execution_count": 108
        }
      ]
    },
    {
      "cell_type": "markdown",
      "metadata": {
        "id": "W1KWYRtYqUWJ"
      },
      "source": [
        "# 귀래면 전체 인구의 중앙값(나이)"
      ]
    },
    {
      "cell_type": "code",
      "metadata": {
        "id": "LImHhsOrt4nm",
        "outputId": "50275e3e-e86e-4d9d-b134-d85d3d13cfb4",
        "colab": {
          "base_uri": "https://localhost:8080/",
          "height": 35
        }
      },
      "source": [
        "n = sum(population)/2\n",
        "total = 0\n",
        "i = 0\n",
        "# 중앙값(나이)를 찾을 때 까지 while문으로 반복\n",
        "while total < n:  \n",
        "  total += population[i]\n",
        "  i += 1\n",
        "Gmedian = age[i]\n",
        "Gmedian\n"
      ],
      "execution_count": 109,
      "outputs": [
        {
          "output_type": "execute_result",
          "data": {
            "text/plain": [
              "65"
            ]
          },
          "metadata": {
            "tags": []
          },
          "execution_count": 109
        }
      ]
    },
    {
      "cell_type": "markdown",
      "metadata": {
        "id": "FKujouNZqdlV"
      },
      "source": [
        "# 귀래면 전체 인구의 평균값(나이)\n"
      ]
    },
    {
      "cell_type": "code",
      "metadata": {
        "id": "VyXKNh3Js0aN",
        "outputId": "511689c2-12b6-4c03-aaf7-6e972dbb8a82",
        "colab": {
          "base_uri": "https://localhost:8080/",
          "height": 35
        }
      },
      "source": [
        "n = len(age)\n",
        "total = 0\n",
        "i = 0\n",
        "# 평귭값(나이)를 찾을 때 까지 while문으로 반복\n",
        "# age값을 계산 할 때 평균과 같이 속한 범위의 중간값(ex: 0~4의 경우 2)으로 놓고 계산 함\n",
        "while i<len(age):\n",
        "  total += population[i]*(age[i]+2)\n",
        "  i += 1\n",
        "mean = total/sum(population)\n",
        "mean "
      ],
      "execution_count": 110,
      "outputs": [
        {
          "output_type": "execute_result",
          "data": {
            "text/plain": [
              "57.60073"
            ]
          },
          "metadata": {
            "tags": []
          },
          "execution_count": 110
        }
      ]
    },
    {
      "cell_type": "markdown",
      "metadata": {
        "id": "qUXClXQkqnIb"
      },
      "source": [
        "# 귀래면 전체 인구의 히스토그램"
      ]
    },
    {
      "cell_type": "code",
      "metadata": {
        "id": "DRTlB9kQngWq"
      },
      "source": [
        "import matplotlib.pyplot as plt\n",
        "\n",
        "%matplotlib inline"
      ],
      "execution_count": 111,
      "outputs": []
    },
    {
      "cell_type": "code",
      "metadata": {
        "id": "Eoyo97xCnhSS",
        "outputId": "cfb192ec-8046-4cec-f7d8-c45a045330c5",
        "colab": {
          "base_uri": "https://localhost:8080/",
          "height": 392
        }
      },
      "source": [
        "fig = plt.figure(figsize=(10, 6))\n",
        "ax = fig.add_subplot(111)\n",
        "\n",
        "histogram = list()\n",
        "i = 0\n",
        "while i<len(population):\n",
        "  j = 0\n",
        "  while j < population[i]:\n",
        "    histogram.append(age[i])\n",
        "    j += 1\n",
        "  i += 1\n",
        "\n",
        "freq, _ , _ = ax.hist(histogram, bins=21, range=(0, 105))\n",
        "ax.set_xlabel('age')\n",
        "ax.set_ylabel('person number')\n",
        "ax.set_xticks(np.linspace(0, 100, 20+1))\n",
        "ax.set_yticks(np.arange(0, 360, 50))\n",
        "plt.show()"
      ],
      "execution_count": 112,
      "outputs": [
        {
          "output_type": "display_data",
          "data": {
            "image/png": "[encoded data removed]",
            "text/plain": [
              "<Figure size 720x432 with 1 Axes>"
            ]
          },
          "metadata": {
            "tags": [],
            "needs_background": "light"
          }
        }
      ]
    },
    {
      "cell_type": "markdown",
      "metadata": {
        "id": "f_UboAeFuhE6"
      },
      "source": [
        "# 귀래면 전체 인구의 왜도"
      ]
    },
    {
      "cell_type": "code",
      "metadata": {
        "id": "7c6AWjo6ukLz",
        "outputId": "760c1b1a-4807-45c9-a5ea-5bfffa6752ce",
        "colab": {
          "base_uri": "https://localhost:8080/",
          "height": 35
        }
      },
      "source": [
        "n = sum(population) - 1\n",
        "total = 0\n",
        "i = 0\n",
        "s = 0\n",
        "result = 0\n",
        "# age값을 계산 할 때 평균과 같이 속한 범위의 중간값(ex: 0~4의 경우 2)으로 놓고 계산 함\n",
        "# 히스토그램을 만들때 사용한 histogram을 재사용함 (mean역시 위에서 구한 평균값)\n",
        "while i<len(histogram):\n",
        "    s += ((histogram[i]+2) - mean)**2\n",
        "    total += ((histogram[i]+2) - mean)**3\n",
        "    i += 1\n",
        "s /= n\n",
        "s = s ** (0.5)\n",
        "s = s ** 3\n",
        "result = total/s\n",
        "result = result/n\n",
        "result"
      ],
      "execution_count": 113,
      "outputs": [
        {
          "output_type": "execute_result",
          "data": {
            "text/plain": [
              "-0.72512"
            ]
          },
          "metadata": {
            "tags": []
          },
          "execution_count": 113
        }
      ]
    },
    {
      "cell_type": "markdown",
      "metadata": {
        "id": "svWNSRh4uvD7"
      },
      "source": [
        "# 귀래면 전체 인구의 첨도"
      ]
    },
    {
      "cell_type": "code",
      "metadata": {
        "id": "m1fej1_juyBI",
        "outputId": "b6bd9ccb-5e6f-45b6-d0f4-623d108a71cc",
        "colab": {
          "base_uri": "https://localhost:8080/",
          "height": 35
        }
      },
      "source": [
        "n = sum(population) - 1\n",
        "total = 0\n",
        "i = 0\n",
        "s = 0\n",
        "result = 0\n",
        "# age값을 계산 할 때 평균과 같이 속한 범위의 중간값(ex: 0~4의 경우 2)으로 놓고 계산 함\n",
        "# 히스토그램을 만들때 사용한 histogram을 재사용함 (mean역시 위에서 구한 평균값)\n",
        "while i<len(histogram):\n",
        "    s += ((histogram[i]+2) - mean)**2\n",
        "    total += ((histogram[i]+2) - mean)**4\n",
        "    i += 1\n",
        "s /= n\n",
        "s = s ** (0.5)\n",
        "s = s ** 4\n",
        "result = total/s\n",
        "result = result/n\n",
        "result"
      ],
      "execution_count": 115,
      "outputs": [
        {
          "output_type": "execute_result",
          "data": {
            "text/plain": [
              "3.17825"
            ]
          },
          "metadata": {
            "tags": []
          },
          "execution_count": 115
        }
      ]
    },
    {
      "cell_type": "markdown",
      "metadata": {
        "id": "PDWVIwzEqth3"
      },
      "source": [
        "# 원주시 반곡관설동 조사"
      ]
    },
    {
      "cell_type": "code",
      "metadata": {
        "id": "WE7f4alAqy6t",
        "outputId": "2a32092b-08db-4fe7-8003-8c95a22a4433",
        "colab": {
          "base_uri": "https://localhost:8080/",
          "height": 53
        }
      },
      "source": [
        "#원주시 반곡관설동 전체 인구수 배열 만들기\n",
        "population = np.array(df['Bangokgwanseol-dong total population'])[:21] \n",
        "population"
      ],
      "execution_count": 116,
      "outputs": [
        {
          "output_type": "execute_result",
          "data": {
            "text/plain": [
              "array([2236, 3091, 2993, 2812, 2528, 2572, 3197, 4207, 4262, 4511, 3623,\n",
              "       2521, 1959, 1134,  657,  622,  398,  204,   79,   17,    6])"
            ]
          },
          "metadata": {
            "tags": []
          },
          "execution_count": 116
        }
      ]
    },
    {
      "cell_type": "code",
      "metadata": {
        "id": "rLyqbcVXq2D1",
        "outputId": "fb2c5cb8-a1c0-47be-e44e-48354bd82318",
        "colab": {
          "base_uri": "https://localhost:8080/",
          "height": 53
        }
      },
      "source": [
        "#원주시 반곡관설동 전체 인구의 나이 배열 만들기\n",
        "age = np.array(df['age'])[:21] \n",
        "age"
      ],
      "execution_count": 117,
      "outputs": [
        {
          "output_type": "execute_result",
          "data": {
            "text/plain": [
              "array([  0,   5,  10,  15,  20,  25,  30,  35,  40,  45,  50,  55,  60,\n",
              "        65,  70,  75,  80,  85,  90,  95, 100])"
            ]
          },
          "metadata": {
            "tags": []
          },
          "execution_count": 117
        }
      ]
    },
    {
      "cell_type": "markdown",
      "metadata": {
        "id": "BNvse5ZvrA6f"
      },
      "source": [
        "# 반곡관설동 전체 인구의 중앙값(나이)"
      ]
    },
    {
      "cell_type": "code",
      "metadata": {
        "id": "4EtPMUiErIxd",
        "outputId": "a103cb6c-e44c-4a9b-907c-fdc346effea6",
        "colab": {
          "base_uri": "https://localhost:8080/",
          "height": 35
        }
      },
      "source": [
        "n = sum(population)/2\n",
        "total = 0\n",
        "i = 0\n",
        "# 중앙값(나이)를 찾을 때 까지 while문으로 반복\n",
        "while total < n:  \n",
        "  total += population[i]\n",
        "  i += 1\n",
        "Gmedian = age[i]\n",
        "Gmedian\n"
      ],
      "execution_count": 118,
      "outputs": [
        {
          "output_type": "execute_result",
          "data": {
            "text/plain": [
              "40"
            ]
          },
          "metadata": {
            "tags": []
          },
          "execution_count": 118
        }
      ]
    },
    {
      "cell_type": "markdown",
      "metadata": {
        "id": "9XHNWfYUrWKI"
      },
      "source": [
        "# 반곡관설동 전체 인구의 평균값(나이)"
      ]
    },
    {
      "cell_type": "code",
      "metadata": {
        "id": "4j57fO5Pra09",
        "outputId": "bbc6b2d4-6996-4ef6-99d7-f7ec56fc073c",
        "colab": {
          "base_uri": "https://localhost:8080/",
          "height": 35
        }
      },
      "source": [
        "n = len(age)\n",
        "total = 0\n",
        "i = 0\n",
        "# 평귭값(나이)를 찾을 때 까지 while문으로 반복\n",
        "# age값을 계산 할 때 평균과 같이 속한 범위의 중간값(ex: 0~4의 경우 2)으로 놓고 계산 함\n",
        "while i<len(age):\n",
        "  total += population[i]*(age[i]+2)\n",
        "  i += 1\n",
        "mean = total/sum(population)\n",
        "mean "
      ],
      "execution_count": 119,
      "outputs": [
        {
          "output_type": "execute_result",
          "data": {
            "text/plain": [
              "35.95116"
            ]
          },
          "metadata": {
            "tags": []
          },
          "execution_count": 119
        }
      ]
    },
    {
      "cell_type": "markdown",
      "metadata": {
        "id": "uHwZORA3sMNj"
      },
      "source": [
        "# 반곡관설동 전체 인구의 히스토그램"
      ]
    },
    {
      "cell_type": "code",
      "metadata": {
        "id": "6QBL3cXSsPri",
        "outputId": "c8e20f94-0e4f-41cf-e79d-1c7d29daf0fe",
        "colab": {
          "base_uri": "https://localhost:8080/",
          "height": 388
        }
      },
      "source": [
        "fig = plt.figure(figsize=(10, 6))\n",
        "ax = fig.add_subplot(111)\n",
        "\n",
        "histogram = list()\n",
        "i = 0\n",
        "while i<len(population):\n",
        "  j = 0\n",
        "  while j < population[i]:\n",
        "    histogram.append(age[i])\n",
        "    j += 1\n",
        "  i += 1\n",
        "\n",
        "freq, _ , _ = ax.hist(histogram, bins=21, range=(0, 105))\n",
        "ax.set_xlabel('age')\n",
        "ax.set_ylabel('person number')\n",
        "ax.set_xticks(np.linspace(0, 100, 20+1))\n",
        "ax.set_yticks(np.arange(0, 4501, 250))\n",
        "plt.show()"
      ],
      "execution_count": 125,
      "outputs": [
        {
          "output_type": "display_data",
          "data": {
            "image/png": "[encoded data removed]",
            "text/plain": [
              "<Figure size 720x432 with 1 Axes>"
            ]
          },
          "metadata": {
            "tags": [],
            "needs_background": "light"
          }
        }
      ]
    },
    {
      "cell_type": "markdown",
      "metadata": {
        "id": "JnVAxx_xuVlh"
      },
      "source": [
        "# 반곡관설동 전체 인구의 왜도"
      ]
    },
    {
      "cell_type": "code",
      "metadata": {
        "id": "_u_-HvYct6Wj",
        "outputId": "3c930771-500c-497a-abed-855223d8a94a",
        "colab": {
          "base_uri": "https://localhost:8080/",
          "height": 35
        }
      },
      "source": [
        "n = sum(population) - 1\n",
        "total = 0\n",
        "i = 0\n",
        "s = 0\n",
        "result = 0\n",
        "# age값을 계산 할 때 평균과 같이 속한 범위의 중간값(ex: 0~4의 경우 2)으로 놓고 계산 함\n",
        "# 히스토그램을 만들때 사용한 histogram을 재사용함 (mean역시 위에서 구한 평균값)\n",
        "while i<len(histogram):\n",
        "    s += ((histogram[i]+2) - mean)**2\n",
        "    total += ((histogram[i]+2) - mean)**3\n",
        "    i += 1\n",
        "s /= n\n",
        "s = s ** (0.5)\n",
        "s = s ** 3\n",
        "result = total/s\n",
        "result = result/n\n",
        "result"
      ],
      "execution_count": 121,
      "outputs": [
        {
          "output_type": "execute_result",
          "data": {
            "text/plain": [
              "0.11962"
            ]
          },
          "metadata": {
            "tags": []
          },
          "execution_count": 121
        }
      ]
    },
    {
      "cell_type": "markdown",
      "metadata": {
        "id": "As2GpaaHubsb"
      },
      "source": [
        "# 반곡관설동 전체 인구의 첨도"
      ]
    },
    {
      "cell_type": "code",
      "metadata": {
        "id": "X2w8uB--tjO9",
        "outputId": "cc53056b-cd71-43e2-89e8-fd90671c99eb",
        "colab": {
          "base_uri": "https://localhost:8080/",
          "height": 35
        }
      },
      "source": [
        "n = sum(population) - 1\n",
        "total = 0\n",
        "i = 0\n",
        "s = 0\n",
        "result = 0\n",
        "# age값을 계산 할 때 평균과 같이 속한 범위의 중간값(ex: 0~4의 경우 2)으로 놓고 계산 함\n",
        "# 히스토그램을 만들때 사용한 histogram을 재사용함 (mean역시 위에서 구한 평균값)\n",
        "while i<len(histogram):\n",
        "    s += ((histogram[i]+2) - mean)**2\n",
        "    total += ((histogram[i]+2) - mean)**4\n",
        "    i += 1\n",
        "s /= n\n",
        "s = s ** (0.5)\n",
        "s = s ** 4\n",
        "result = total/s\n",
        "result = result/n\n",
        "result\n"
      ],
      "execution_count": 122,
      "outputs": [
        {
          "output_type": "execute_result",
          "data": {
            "text/plain": [
              "2.37304"
            ]
          },
          "metadata": {
            "tags": []
          },
          "execution_count": 122
        }
      ]
    }
  ]
}